{
 "cells": [
  {
   "cell_type": "code",
   "execution_count": 12,
   "id": "67fb9209",
   "metadata": {},
   "outputs": [],
   "source": [
    "class Node:\n",
    "    def __init__(self, data):\n",
    "        self.data = data\n",
    "        self.next = None\n",
    "\n",
    "class SinglyLinkedList:\n",
    "    def __init__(self):\n",
    "        self.head = None\n",
    "\n",
    "    def append(self, element):\n",
    "        node = Node(element)\n",
    "        if not self.head:\n",
    "            self.head = node\n",
    "        else:\n",
    "            current = self.head\n",
    "            while current.next:\n",
    "                current = current.next\n",
    "            current.next = node\n",
    "    \n",
    "    def __str__(self):\n",
    "        out_str = \"[\"\n",
    "        if self.head:\n",
    "            out_str += \"%s\" % self.head.data\n",
    "            current = self.head.next\n",
    "            while current:\n",
    "                out_str += \", %s\" % current.data\n",
    "                current = current.next\n",
    "        out_str += \"]\"\n",
    "        return out_str\n",
    "    \n",
    "    def insert(self, index, value):\n",
    "        node = Node(value)\n",
    "        if not self.head:\n",
    "            self.head = node\n",
    "        else:\n",
    "            if index == 0:\n",
    "                node.next = self.head\n",
    "                self.head = node\n",
    "            else:\n",
    "                current = self.head\n",
    "                prev = None\n",
    "                count = 0\n",
    "                while current.next and count != index:\n",
    "                    prev = current\n",
    "                    count += 1\n",
    "                    current = current.next\n",
    "                if count == index:\n",
    "                    prev.next = node\n",
    "                    node.next = current \n",
    "                else:\n",
    "                    current.next = node                 \n",
    "            "
   ]
  },
  {
   "cell_type": "code",
   "execution_count": 14,
   "id": "8f11c2ed",
   "metadata": {},
   "outputs": [
    {
     "name": "stdout",
     "output_type": "stream",
     "text": [
      "[1, 2, 3, 4, 5]\n"
     ]
    }
   ],
   "source": [
    "sll = SinglyLinkedList()\n",
    "for n in range(1, 6):\n",
    "    sll.append(n)\n",
    "print(sll)"
   ]
  },
  {
   "cell_type": "markdown",
   "id": "e0aa5ad8",
   "metadata": {},
   "source": [
    "# Problem 4\n",
    "### Implement the \"insert\" method in our SLL class\n",
    "At a minimum the insert method should cover the 5 use cases we've discussed:\n",
    "1. Insert before the head\n",
    "2. Insert on an empty list\n",
    "3. Insert on an empty list with an unreachable index\n",
    "4. Insert on a list with an unreachable index\n",
    "5. Insert anywhere in the middle of a list (between the head and the tail)\n",
    "\n",
    "`Note: Remember the insert method adds a new node before a given index, not after.`"
   ]
  },
  {
   "cell_type": "code",
   "execution_count": 5,
   "id": "7de2e78c",
   "metadata": {},
   "outputs": [
    {
     "name": "stdout",
     "output_type": "stream",
     "text": [
      "[2, 1, 2, 3, 4, 5]\n"
     ]
    }
   ],
   "source": [
    "sll = SinglyLinkedList()\n",
    "for n in range(1, 6):\n",
    "    sll.append(n)\n",
    "\n",
    "sll.insert(0,2)\n",
    "print(sll)"
   ]
  },
  {
   "cell_type": "code",
   "execution_count": 15,
   "id": "f2fc00b7",
   "metadata": {},
   "outputs": [
    {
     "name": "stdout",
     "output_type": "stream",
     "text": [
      "[1]\n",
      "[1, 3]\n",
      "[0, 2, 9, 3, 4]\n"
     ]
    }
   ],
   "source": [
    "# Insert on empty list\n",
    "sll = SinglyLinkedList()\n",
    "sll.insert(3,1)\n",
    "print(sll)\n",
    "\n",
    "sll.insert(33,3)\n",
    "print(sll)\n",
    "\n",
    "sll2 = SinglyLinkedList()\n",
    "sll2.append(0)\n",
    "sll2.insert(1,2)\n",
    "sll2.append(3)\n",
    "sll2.append(4)\n",
    "sll2.insert(2,9)\n",
    "print(sll2)\n",
    "\n"
   ]
  },
  {
   "cell_type": "code",
   "execution_count": null,
   "id": "19928c45",
   "metadata": {},
   "outputs": [],
   "source": [
    "print(sll)"
   ]
  },
  {
   "cell_type": "code",
   "execution_count": null,
   "id": "745ebde4",
   "metadata": {},
   "outputs": [],
   "source": []
  }
 ],
 "metadata": {
  "kernelspec": {
   "display_name": "Python 3 (ipykernel)",
   "language": "python",
   "name": "python3"
  },
  "language_info": {
   "codemirror_mode": {
    "name": "ipython",
    "version": 3
   },
   "file_extension": ".py",
   "mimetype": "text/x-python",
   "name": "python",
   "nbconvert_exporter": "python",
   "pygments_lexer": "ipython3",
   "version": "3.8.10"
  }
 },
 "nbformat": 4,
 "nbformat_minor": 5
}
