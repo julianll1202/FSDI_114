{
 "cells": [
  {
   "cell_type": "markdown",
   "id": "a7000efd",
   "metadata": {},
   "source": [
    "# Problem 2\n",
    "### Use a stack to invert a string\n",
    "\n",
    "Create a function called 'invert_str' that takes a parameter (a string) and return its inverted version.\n",
    "*As a requirement your solution _must_ use one of the two stack classes we implemented last class.*\n",
    "```\n",
    "Examples:\n",
    "given \"Rafael\" your function should return \"leafaR\"\n",
    "given \"Cars\" your function should return \"araC\"\n",
    "given \"Rats\" your function should return \"staR\"\n",
    "```"
   ]
  },
  {
   "cell_type": "code",
   "execution_count": 4,
   "id": "6610d38f",
   "metadata": {},
   "outputs": [],
   "source": [
    "class Stack:\n",
    "    def __init__(self):\n",
    "        self.items = []\n",
    "    \n",
    "    def push(self, element):\n",
    "        self.items.append(element)\n",
    "    \n",
    "    def pop(self):\n",
    "        return self.items.pop()\n",
    "    \n",
    "    def is_empty(self):\n",
    "        return self.items == []\n",
    "    \n",
    "    def __len__(self):\n",
    "        return len(self.items)\n",
    "\n",
    "def invert_str(string):\n",
    "    stack = Stack()\n",
    "    for letter in string:\n",
    "        stack.push(letter)\n",
    "    inverted_str = \"\"\n",
    "    while not stack.is_empty():\n",
    "        inverted_str += stack.pop()\n",
    "    return inverted_str"
   ]
  },
  {
   "cell_type": "code",
   "execution_count": 5,
   "id": "c9cd52e3",
   "metadata": {},
   "outputs": [
    {
     "data": {
      "text/plain": [
       "'sraC'"
      ]
     },
     "execution_count": 5,
     "metadata": {},
     "output_type": "execute_result"
    }
   ],
   "source": [
    "invert_str(\"Cars\")"
   ]
  },
  {
   "cell_type": "code",
   "execution_count": 6,
   "id": "feb4dbcb",
   "metadata": {},
   "outputs": [
    {
     "data": {
      "text/plain": [
       "'leafaR'"
      ]
     },
     "execution_count": 6,
     "metadata": {},
     "output_type": "execute_result"
    }
   ],
   "source": [
    "invert_str(\"Rafael\")"
   ]
  },
  {
   "cell_type": "code",
   "execution_count": 7,
   "id": "6aa86b36",
   "metadata": {},
   "outputs": [
    {
     "data": {
      "text/plain": [
       "'zepoL nailuJ'"
      ]
     },
     "execution_count": 7,
     "metadata": {},
     "output_type": "execute_result"
    }
   ],
   "source": [
    "invert_str(\"Julian Lopez\")"
   ]
  },
  {
   "cell_type": "code",
   "execution_count": 8,
   "id": "d13b1a4d",
   "metadata": {},
   "outputs": [
    {
     "data": {
      "text/plain": [
       "'Julian Lopez'"
      ]
     },
     "execution_count": 8,
     "metadata": {},
     "output_type": "execute_result"
    }
   ],
   "source": [
    "invert_str('zepoL nailuJ')"
   ]
  },
  {
   "cell_type": "code",
   "execution_count": 10,
   "id": "dc5dc601",
   "metadata": {},
   "outputs": [
    {
     "name": "stdout",
     "output_type": "stream",
     "text": [
      "OK\n"
     ]
    }
   ],
   "source": [
    "pairs = [\n",
    "    (\"Rafael\", \"leafaR\"),\n",
    "    (\"cars\", \"srac\"),\n",
    "    (\"1234\", \"4321\")\n",
    "]\n",
    "\n",
    "def test_invert_str(pairs):\n",
    "    for pair in pairs:\n",
    "        assert invert_str(pair[0]) == pair[1]\n",
    "    print(\"OK\")\n",
    "test_invert_str(pairs)"
   ]
  },
  {
   "cell_type": "markdown",
   "id": "a7cfff6f",
   "metadata": {},
   "source": [
    "# Recursive Functions"
   ]
  },
  {
   "cell_type": "code",
   "execution_count": 11,
   "id": "303c5023",
   "metadata": {},
   "outputs": [],
   "source": [
    "def factorial(n):\n",
    "    if n == 0:\n",
    "        return 1\n",
    "    return n*factorial(n-1)"
   ]
  },
  {
   "cell_type": "code",
   "execution_count": 12,
   "id": "c3439549",
   "metadata": {},
   "outputs": [
    {
     "data": {
      "text/plain": [
       "120"
      ]
     },
     "execution_count": 12,
     "metadata": {},
     "output_type": "execute_result"
    }
   ],
   "source": [
    "factorial(5)"
   ]
  },
  {
   "cell_type": "code",
   "execution_count": 15,
   "id": "67ad16b4",
   "metadata": {},
   "outputs": [],
   "source": [
    "# Recursive Fibonnacci\n",
    "from functools import lru_cache\n",
    "\n",
    "@lru_cache\n",
    "def fib(n):\n",
    "    if n < 2:\n",
    "        return n\n",
    "    return fib(n-1) + fib(n-2)"
   ]
  },
  {
   "cell_type": "code",
   "execution_count": 16,
   "id": "54e132cb",
   "metadata": {},
   "outputs": [
    {
     "name": "stdout",
     "output_type": "stream",
     "text": [
      "0\n",
      "1\n",
      "1\n",
      "2\n",
      "3\n",
      "5\n",
      "8\n",
      "13\n",
      "21\n",
      "34\n",
      "55\n",
      "89\n",
      "144\n"
     ]
    }
   ],
   "source": [
    "for i in range(13):\n",
    "    print(fib(i))"
   ]
  },
  {
   "cell_type": "code",
   "execution_count": 19,
   "id": "edacf0c0",
   "metadata": {},
   "outputs": [],
   "source": [
    "class HashTable:\n",
    "    def __init__(self, size):\n",
    "        # Set up size and our two lists: slots and data\n",
    "        self.size = size\n",
    "        self.slots = [None] * self.size\n",
    "        self.data = [None] * self.size\n",
    "    \n",
    "    def put(self, key, data):\n",
    "        hashvalue = self.hashfunction(key, len(self.slots))\n",
    "        if self.slots[hashvalue] == None:\n",
    "            self.slots[hashvalue] = key\n",
    "            self.data[hashvalue] = data\n",
    "        else:\n",
    "            if self.slots[hashvalue] == key:\n",
    "                self.data[hashvalue] = data\n",
    "            else:\n",
    "                nextslot = self.rehash(hashvalue, len(self.slots))\n",
    "                while(self.slots[nextslot] != None) and (self.slots[nextslot] != key):\n",
    "                    nextslot = self.rehash(nextslot, len(self.slots))\n",
    "                if self.slots[nextslot] == None:\n",
    "                    self.slots[nextslot] = key\n",
    "                    self.data[nextslot] = data\n",
    "                else:\n",
    "                    self.data[nextslot] = data\n",
    "    \n",
    "    def hashfunction(self, key, size):\n",
    "        return key%size\n",
    "    \n",
    "    def rehash(self, oldhash, size):\n",
    "        return (oldhash+1)%size\n",
    "    \n",
    "    def get(self, key):\n",
    "        # Calculate the initial slot and some helper variables\n",
    "        startslot = self.hashfunction(key, len(self.slots))\n",
    "        data = None\n",
    "        stop = False\n",
    "        found = False\n",
    "        position = startslot\n",
    "        \n",
    "        # We check that the position isn't empty, found is false and stop isn't false\n",
    "        while self.slots[position] != None and not found and not stop:\n",
    "            # We check if the slot is the same as our key\n",
    "            if self.slots[position] == key:\n",
    "                # This means we found the initial slot\n",
    "                found = True\n",
    "                data = self.data[position]\n",
    "            else:\n",
    "                position = self.rehash(position, len(self.slots))\n",
    "                # If we are back again at the start, we stop because the data is not in the table\n",
    "                if position == startslot:\n",
    "                    stop = True\n",
    "        return data"
   ]
  },
  {
   "cell_type": "markdown",
   "id": "21bdfedd",
   "metadata": {},
   "source": [
    "# Problem 3\n",
    "### Refactor our recursive fibonnacci function to use our HashTable class instead\n"
   ]
  },
  {
   "cell_type": "code",
   "execution_count": null,
   "id": "17d455a1",
   "metadata": {},
   "outputs": [],
   "source": []
  }
 ],
 "metadata": {
  "kernelspec": {
   "display_name": "Python 3 (ipykernel)",
   "language": "python",
   "name": "python3"
  },
  "language_info": {
   "codemirror_mode": {
    "name": "ipython",
    "version": 3
   },
   "file_extension": ".py",
   "mimetype": "text/x-python",
   "name": "python",
   "nbconvert_exporter": "python",
   "pygments_lexer": "ipython3",
   "version": "3.8.10"
  }
 },
 "nbformat": 4,
 "nbformat_minor": 5
}
