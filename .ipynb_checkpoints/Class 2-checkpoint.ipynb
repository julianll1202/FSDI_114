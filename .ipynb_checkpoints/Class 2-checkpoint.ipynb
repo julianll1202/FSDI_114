{
 "cells": [
  {
   "cell_type": "code",
   "execution_count": 1,
   "id": "dc9fdb8a",
   "metadata": {},
   "outputs": [],
   "source": [
    "class Stack:\n",
    "    def __init__(self):\n",
    "        self.items = []\n",
    "    \n",
    "    def push(self, element):\n",
    "        self.items.append(element)\n",
    "        \n",
    "    def pop(self):\n",
    "        return self.items.pop()\n",
    "    \n",
    "    def __len__(self):\n",
    "        return len(self.items)\n",
    "    \n",
    "    def peek(self):\n",
    "        return self.items[len(self.items)-1]\n",
    "    \n",
    "    def is_empty(self):\n",
    "        return self.items == []"
   ]
  },
  {
   "cell_type": "code",
   "execution_count": 3,
   "id": "00a8eec9",
   "metadata": {},
   "outputs": [
    {
     "name": "stdout",
     "output_type": "stream",
     "text": [
      "[6, 5, 4, 3, 2, 1]\n"
     ]
    }
   ],
   "source": [
    "numbers = [1,2,3,4,5,6]\n",
    "stack = Stack()\n",
    "\n",
    "for number in numbers:\n",
    "    stack.push(number)\n",
    "\n",
    "out = []\n",
    "\n",
    "while not stack.is_empty():\n",
    "    element = stack.pop()\n",
    "    out.append(element)\n",
    "\n",
    "print(out)"
   ]
  },
  {
   "cell_type": "code",
   "execution_count": 9,
   "id": "ce048295",
   "metadata": {},
   "outputs": [],
   "source": [
    "class Node():\n",
    "    def __init__(self, data):\n",
    "        self.data = data\n",
    "        self.above = None\n",
    "\n",
    "class Stack:\n",
    "    def __init__(self):\n",
    "        self.base = None\n",
    "        \n",
    "    def push(self, element):\n",
    "        node = Node(element)\n",
    "        if self.base == None:\n",
    "            self.base = node\n",
    "        else:\n",
    "            current = self.base\n",
    "            while current.above is not None:\n",
    "                current = current.above\n",
    "            current.above = node\n",
    "    def pop(self):\n",
    "        if self.base != None:               # when the stack isn't empty\n",
    "            if self.base.above != None:     # when it contains more than one element\n",
    "                current = self.base\n",
    "                previous = None\n",
    "                while current.above:\n",
    "                    previous = current\n",
    "                    current = current.above\n",
    "                previous.above = None       # eliminates the top node\n",
    "                return current.data         # return the value of the deleted node\n",
    "            else:                           # when it contains only one element\n",
    "                data = self.base.data\n",
    "                self.base = None\n",
    "                return data\n",
    "        raise IndexError(\"Empty stack\")\n",
    "                \n",
    "    def view(self):\n",
    "        current = self.base\n",
    "        while current:\n",
    "            print(current.data)\n",
    "            current = current.above\n",
    "    \n",
    "    def is_empty(self):\n",
    "        return self.base == None\n",
    "    \n",
    "    def __len__(self):\n",
    "        counter = 0\n",
    "        if self.base:\n",
    "            current = self.base\n",
    "            while current:\n",
    "                counter = counter+1\n",
    "                current = current.above\n",
    "        return counter\n",
    "        \n",
    "        \n",
    "    def peek(self):\n",
    "        if self.base != None:\n",
    "            current = self.base\n",
    "            while current.above:\n",
    "                current = current.above\n",
    "            return current.data\n",
    "        raise IndexError(\"Empty stack\")"
   ]
  },
  {
   "cell_type": "code",
   "execution_count": 10,
   "id": "3e7d935f",
   "metadata": {},
   "outputs": [],
   "source": [
    "stack = Stack()\n",
    "stack.push(4)"
   ]
  },
  {
   "cell_type": "code",
   "execution_count": 15,
   "id": "c6089446",
   "metadata": {},
   "outputs": [],
   "source": [
    "stack.push(6)"
   ]
  },
  {
   "cell_type": "code",
   "execution_count": 13,
   "id": "e0c2b71a",
   "metadata": {},
   "outputs": [
    {
     "name": "stdout",
     "output_type": "stream",
     "text": [
      "4\n",
      "5\n"
     ]
    }
   ],
   "source": [
    "stack.view()"
   ]
  },
  {
   "cell_type": "code",
   "execution_count": 17,
   "id": "ef1ee136",
   "metadata": {},
   "outputs": [
    {
     "data": {
      "text/plain": [
       "6"
      ]
     },
     "execution_count": 17,
     "metadata": {},
     "output_type": "execute_result"
    }
   ],
   "source": [
    "stack.pop()"
   ]
  },
  {
   "cell_type": "code",
   "execution_count": 5,
   "id": "6beeb316",
   "metadata": {},
   "outputs": [],
   "source": [
    "stack.push(8)"
   ]
  },
  {
   "cell_type": "code",
   "execution_count": 107,
   "id": "6b2bd587",
   "metadata": {},
   "outputs": [],
   "source": [
    "# Simple implementation\n",
    "class Queue:\n",
    "    def __init__(self):\n",
    "        self.items = []\n",
    "    \n",
    "    def enqueue(self,element):\n",
    "        self.items.append(element)\n",
    "        \n",
    "    def dequeue(self):\n",
    "        return self.items.pop(0)\n",
    "    \n",
    "    def is_empty(self):\n",
    "        return self.items == []\n",
    "    \n",
    "    def peek(self):\n",
    "        return self.items[len(self.items)-1]\n",
    "    \n",
    "    def __len__(self):\n",
    "        return len(self.items)"
   ]
  },
  {
   "cell_type": "code",
   "execution_count": 6,
   "id": "3a54b8c5",
   "metadata": {},
   "outputs": [
    {
     "data": {
      "text/plain": [
       "2"
      ]
     },
     "execution_count": 6,
     "metadata": {},
     "output_type": "execute_result"
    }
   ],
   "source": [
    "len(stack)"
   ]
  },
  {
   "cell_type": "code",
   "execution_count": 108,
   "id": "14e5c81c",
   "metadata": {},
   "outputs": [],
   "source": [
    "queue = Queue()"
   ]
  },
  {
   "cell_type": "code",
   "execution_count": 109,
   "id": "10a55ef1",
   "metadata": {},
   "outputs": [],
   "source": [
    "queue.enqueue(3)"
   ]
  },
  {
   "cell_type": "code",
   "execution_count": 110,
   "id": "e574716d",
   "metadata": {},
   "outputs": [
    {
     "data": {
      "text/plain": [
       "3"
      ]
     },
     "execution_count": 110,
     "metadata": {},
     "output_type": "execute_result"
    }
   ],
   "source": [
    "queue.peek()"
   ]
  },
  {
   "cell_type": "code",
   "execution_count": 18,
   "id": "c39b9afe",
   "metadata": {},
   "outputs": [
    {
     "data": {
      "text/plain": [
       "5"
      ]
     },
     "execution_count": 18,
     "metadata": {},
     "output_type": "execute_result"
    }
   ],
   "source": [
    "stack.peek()"
   ]
  },
  {
   "cell_type": "code",
   "execution_count": 36,
   "id": "cc397fad",
   "metadata": {},
   "outputs": [],
   "source": [
    "# Node\n",
    "#   data\n",
    "#   above\n",
    "\n",
    "# Queue\n",
    "#   starts with empty front\n",
    "class Queue:\n",
    "    def __init__(self):\n",
    "        self.front = None\n",
    "    \n",
    "    def enqueue(self, element):\n",
    "        node = Node(element)\n",
    "        if self.front:\n",
    "            current = self.front\n",
    "            while current.above:\n",
    "                current = current.above\n",
    "            \n",
    "            current.above = node\n",
    "        else:\n",
    "            self.front = node\n",
    "    \n",
    "    def view(self):\n",
    "        current = self.front\n",
    "        while current:\n",
    "            print(current.data)\n",
    "            current = current.above\n",
    "    \n",
    "    def dequeue(self):\n",
    "        if self.front:\n",
    "            copy = self.front\n",
    "            if self.front.above:\n",
    "                self.front = self.front.above\n",
    "            else:\n",
    "                self.front = None\n",
    "            return copy.data\n",
    "        raise IndexError(\"Empty Queue\")\n",
    "    \n",
    "    def is_empty(self):\n",
    "        return self.front == None\n",
    "    \n",
    "    def peek(self):\n",
    "            if self.front:\n",
    "                current = self.front\n",
    "                while current.above:\n",
    "                    current = current.above\n",
    "                return current.data\n",
    "            raise IndexError(\"Empty Queue\")"
   ]
  },
  {
   "cell_type": "code",
   "execution_count": 37,
   "id": "8507f99b",
   "metadata": {},
   "outputs": [],
   "source": [
    "q = Queue()"
   ]
  },
  {
   "cell_type": "code",
   "execution_count": 38,
   "id": "dc434261",
   "metadata": {},
   "outputs": [
    {
     "name": "stdout",
     "output_type": "stream",
     "text": [
      "1\n",
      "2\n"
     ]
    }
   ],
   "source": [
    "q.enqueue(1)\n",
    "q.enqueue(2)\n",
    "q.view()"
   ]
  },
  {
   "cell_type": "code",
   "execution_count": 44,
   "id": "b8c1ad09",
   "metadata": {},
   "outputs": [
    {
     "data": {
      "text/plain": [
       "2"
      ]
     },
     "execution_count": 44,
     "metadata": {},
     "output_type": "execute_result"
    }
   ],
   "source": [
    "q.dequeue()"
   ]
  },
  {
   "cell_type": "code",
   "execution_count": 39,
   "id": "222d90b5",
   "metadata": {},
   "outputs": [],
   "source": [
    "q.enqueue(3)\n",
    "q.enqueue(4)\n",
    "q.enqueue(5)"
   ]
  },
  {
   "cell_type": "code",
   "execution_count": 45,
   "id": "1ac22508",
   "metadata": {},
   "outputs": [
    {
     "data": {
      "text/plain": [
       "5"
      ]
     },
     "execution_count": 45,
     "metadata": {},
     "output_type": "execute_result"
    }
   ],
   "source": [
    "q.peek()"
   ]
  },
  {
   "cell_type": "code",
   "execution_count": null,
   "id": "97bc93c4",
   "metadata": {},
   "outputs": [],
   "source": []
  }
 ],
 "metadata": {
  "kernelspec": {
   "display_name": "Python 3 (ipykernel)",
   "language": "python",
   "name": "python3"
  },
  "language_info": {
   "codemirror_mode": {
    "name": "ipython",
    "version": 3
   },
   "file_extension": ".py",
   "mimetype": "text/x-python",
   "name": "python",
   "nbconvert_exporter": "python",
   "pygments_lexer": "ipython3",
   "version": "3.8.10"
  }
 },
 "nbformat": 4,
 "nbformat_minor": 5
}
