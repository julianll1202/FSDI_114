{
 "cells": [
  {
   "cell_type": "code",
   "execution_count": 17,
   "id": "67fb9209",
   "metadata": {},
   "outputs": [],
   "source": [
    "class Node:\n",
    "    def __init__(self, data):\n",
    "        self.data = data\n",
    "        self.next = None\n",
    "\n",
    "class SinglyLinkedList:\n",
    "    def __init__(self):\n",
    "        self.head = None\n",
    "\n",
    "    def append(self, element):\n",
    "        node = Node(element)\n",
    "        if not self.head:\n",
    "            self.head = node\n",
    "        else:\n",
    "            current = self.head\n",
    "            while current.next:\n",
    "                current = current.next\n",
    "            current.next = node\n",
    "    \n",
    "    def __str__(self):\n",
    "        out_str = \"[\"\n",
    "        if self.head:\n",
    "            out_str += \"%s\" % self.head.data\n",
    "            current = self.head.next\n",
    "            while current:\n",
    "                out_str += \", %s\" % current.data\n",
    "                current = current.next\n",
    "        out_str += \"]\"\n",
    "        return out_str\n",
    "    \n",
    "    def insert(self, index, value):\n",
    "        node = Node(value)\n",
    "        if not self.head:\n",
    "            self.head = node\n",
    "        else:\n",
    "            if index == 0:\n",
    "                node.next = self.head\n",
    "                self.head = node\n",
    "            else:\n",
    "                current = self.head\n",
    "                prev = None\n",
    "                count = 0\n",
    "                while current.next and count != index:\n",
    "                    prev = current\n",
    "                    count += 1\n",
    "                    current = current.next\n",
    "                if count == index:\n",
    "                    prev.next = node\n",
    "                    node.next = current \n",
    "                else:\n",
    "                    current.next = node      \n",
    "        \n",
    "    def index(self, value):\n",
    "        count = 0\n",
    "        current = self.head\n",
    "        while current:\n",
    "            if current.data == value:\n",
    "                return count\n",
    "            current = current.next\n",
    "            count += 1\n",
    "        raise ValueError(\"Value doesn't exist in list\")\n",
    "    \n",
    "    def count(self, value):\n",
    "        count = 0\n",
    "        current = self.head\n",
    "        while current:\n",
    "            if current.data == value:\n",
    "                count += 1\n",
    "            current = current.next\n",
    "        return count"
   ]
  },
  {
   "cell_type": "code",
   "execution_count": 20,
   "id": "8f11c2ed",
   "metadata": {},
   "outputs": [
    {
     "name": "stdout",
     "output_type": "stream",
     "text": [
      "[1, 2, 3, 4, 5]\n"
     ]
    },
    {
     "data": {
      "text/plain": [
       "0"
      ]
     },
     "execution_count": 20,
     "metadata": {},
     "output_type": "execute_result"
    }
   ],
   "source": [
    "sll = SinglyLinkedList()\n",
    "for n in range(1, 6):\n",
    "    sll.append(n)\n",
    "print(sll)\n",
    "sll.index(5)\n",
    "sll.count(6)"
   ]
  },
  {
   "cell_type": "markdown",
   "id": "e0aa5ad8",
   "metadata": {},
   "source": [
    "# Problem 4\n",
    "### Implement the \"insert\" method in our SLL class\n",
    "At a minimum the insert method should cover the 5 use cases we've discussed:\n",
    "1. Insert before the head\n",
    "2. Insert on an empty list\n",
    "3. Insert on an empty list with an unreachable index\n",
    "4. Insert on a list with an unreachable index\n",
    "5. Insert anywhere in the middle of a list (between the head and the tail)\n",
    "\n",
    "`Note: Remember the insert method adds a new node before a given index, not after.`"
   ]
  },
  {
   "cell_type": "code",
   "execution_count": 10,
   "id": "7de2e78c",
   "metadata": {},
   "outputs": [
    {
     "name": "stdout",
     "output_type": "stream",
     "text": [
      "[2, 1, 2, 3, 4, 5]\n"
     ]
    }
   ],
   "source": [
    "sll = SinglyLinkedList()\n",
    "for n in range(1, 6):\n",
    "    sll.append(n)\n",
    "\n",
    "sll.insert(0,2)\n",
    "print(sll)"
   ]
  },
  {
   "cell_type": "code",
   "execution_count": 21,
   "id": "f2fc00b7",
   "metadata": {},
   "outputs": [
    {
     "name": "stdout",
     "output_type": "stream",
     "text": [
      "[1]\n",
      "[1, 3]\n",
      "[0, 2, 9, 3, 4]\n"
     ]
    }
   ],
   "source": [
    "# Insert on empty list\n",
    "sll = SinglyLinkedList()\n",
    "sll.insert(3,1)\n",
    "print(sll)\n",
    "\n",
    "sll.insert(33,3)\n",
    "print(sll)\n",
    "\n",
    "sll2 = SinglyLinkedList()\n",
    "sll2.append(0)\n",
    "sll2.insert(1,2)\n",
    "sll2.append(3)\n",
    "sll2.append(4)\n",
    "sll2.insert(2,9)\n",
    "print(sll2)\n",
    "\n"
   ]
  },
  {
   "cell_type": "code",
   "execution_count": null,
   "id": "19928c45",
   "metadata": {},
   "outputs": [],
   "source": [
    "print(sll)"
   ]
  },
  {
   "cell_type": "code",
   "execution_count": 1,
   "id": "745ebde4",
   "metadata": {},
   "outputs": [
    {
     "name": "stdout",
     "output_type": "stream",
     "text": [
      "Help on list object:\n",
      "\n",
      "class list(object)\n",
      " |  list(iterable=(), /)\n",
      " |  \n",
      " |  Built-in mutable sequence.\n",
      " |  \n",
      " |  If no argument is given, the constructor creates a new empty list.\n",
      " |  The argument must be an iterable if specified.\n",
      " |  \n",
      " |  Methods defined here:\n",
      " |  \n",
      " |  __add__(self, value, /)\n",
      " |      Return self+value.\n",
      " |  \n",
      " |  __contains__(self, key, /)\n",
      " |      Return key in self.\n",
      " |  \n",
      " |  __delitem__(self, key, /)\n",
      " |      Delete self[key].\n",
      " |  \n",
      " |  __eq__(self, value, /)\n",
      " |      Return self==value.\n",
      " |  \n",
      " |  __ge__(self, value, /)\n",
      " |      Return self>=value.\n",
      " |  \n",
      " |  __getattribute__(self, name, /)\n",
      " |      Return getattr(self, name).\n",
      " |  \n",
      " |  __getitem__(...)\n",
      " |      x.__getitem__(y) <==> x[y]\n",
      " |  \n",
      " |  __gt__(self, value, /)\n",
      " |      Return self>value.\n",
      " |  \n",
      " |  __iadd__(self, value, /)\n",
      " |      Implement self+=value.\n",
      " |  \n",
      " |  __imul__(self, value, /)\n",
      " |      Implement self*=value.\n",
      " |  \n",
      " |  __init__(self, /, *args, **kwargs)\n",
      " |      Initialize self.  See help(type(self)) for accurate signature.\n",
      " |  \n",
      " |  __iter__(self, /)\n",
      " |      Implement iter(self).\n",
      " |  \n",
      " |  __le__(self, value, /)\n",
      " |      Return self<=value.\n",
      " |  \n",
      " |  __len__(self, /)\n",
      " |      Return len(self).\n",
      " |  \n",
      " |  __lt__(self, value, /)\n",
      " |      Return self<value.\n",
      " |  \n",
      " |  __mul__(self, value, /)\n",
      " |      Return self*value.\n",
      " |  \n",
      " |  __ne__(self, value, /)\n",
      " |      Return self!=value.\n",
      " |  \n",
      " |  __repr__(self, /)\n",
      " |      Return repr(self).\n",
      " |  \n",
      " |  __reversed__(self, /)\n",
      " |      Return a reverse iterator over the list.\n",
      " |  \n",
      " |  __rmul__(self, value, /)\n",
      " |      Return value*self.\n",
      " |  \n",
      " |  __setitem__(self, key, value, /)\n",
      " |      Set self[key] to value.\n",
      " |  \n",
      " |  __sizeof__(self, /)\n",
      " |      Return the size of the list in memory, in bytes.\n",
      " |  \n",
      " |  append(self, object, /)\n",
      " |      Append object to the end of the list.\n",
      " |  \n",
      " |  clear(self, /)\n",
      " |      Remove all items from list.\n",
      " |  \n",
      " |  copy(self, /)\n",
      " |      Return a shallow copy of the list.\n",
      " |  \n",
      " |  count(self, value, /)\n",
      " |      Return number of occurrences of value.\n",
      " |  \n",
      " |  extend(self, iterable, /)\n",
      " |      Extend list by appending elements from the iterable.\n",
      " |  \n",
      " |  index(self, value, start=0, stop=9223372036854775807, /)\n",
      " |      Return first index of value.\n",
      " |      \n",
      " |      Raises ValueError if the value is not present.\n",
      " |  \n",
      " |  insert(self, index, object, /)\n",
      " |      Insert object before index.\n",
      " |  \n",
      " |  pop(self, index=-1, /)\n",
      " |      Remove and return item at index (default last).\n",
      " |      \n",
      " |      Raises IndexError if list is empty or index is out of range.\n",
      " |  \n",
      " |  remove(self, value, /)\n",
      " |      Remove first occurrence of value.\n",
      " |      \n",
      " |      Raises ValueError if the value is not present.\n",
      " |  \n",
      " |  reverse(self, /)\n",
      " |      Reverse *IN PLACE*.\n",
      " |  \n",
      " |  sort(self, /, *, key=None, reverse=False)\n",
      " |      Sort the list in ascending order and return None.\n",
      " |      \n",
      " |      The sort is in-place (i.e. the list itself is modified) and stable (i.e. the\n",
      " |      order of two equal elements is maintained).\n",
      " |      \n",
      " |      If a key function is given, apply it once to each list item and sort them,\n",
      " |      ascending or descending, according to their function values.\n",
      " |      \n",
      " |      The reverse flag can be set to sort in descending order.\n",
      " |  \n",
      " |  ----------------------------------------------------------------------\n",
      " |  Static methods defined here:\n",
      " |  \n",
      " |  __new__(*args, **kwargs) from builtins.type\n",
      " |      Create and return a new object.  See help(type) for accurate signature.\n",
      " |  \n",
      " |  ----------------------------------------------------------------------\n",
      " |  Data and other attributes defined here:\n",
      " |  \n",
      " |  __hash__ = None\n",
      "\n"
     ]
    }
   ],
   "source": [
    "help([])"
   ]
  },
  {
   "cell_type": "code",
   "execution_count": 22,
   "id": "0f528a41",
   "metadata": {},
   "outputs": [
    {
     "name": "stdout",
     "output_type": "stream",
     "text": [
      "[2, 2, 2, 2, 3, 25, 5]\n"
     ]
    }
   ],
   "source": [
    "sll3 = SinglyLinkedList()\n",
    "sll3.append(2)\n",
    "sll3.append(2)\n",
    "sll3.append(2)\n",
    "sll3.append(2)\n",
    "sll3.append(3)\n",
    "sll3.append(25)\n",
    "sll3.append(5)\n",
    "print(sll3)"
   ]
  },
  {
   "cell_type": "code",
   "execution_count": 23,
   "id": "4d84901b",
   "metadata": {},
   "outputs": [
    {
     "data": {
      "text/plain": [
       "4"
      ]
     },
     "execution_count": 23,
     "metadata": {},
     "output_type": "execute_result"
    }
   ],
   "source": [
    "sll3.count(2)"
   ]
  },
  {
   "cell_type": "code",
   "execution_count": 24,
   "id": "c6e5b172",
   "metadata": {},
   "outputs": [
    {
     "data": {
      "text/plain": [
       "1"
      ]
     },
     "execution_count": 24,
     "metadata": {},
     "output_type": "execute_result"
    }
   ],
   "source": [
    "sll.count(3)"
   ]
  },
  {
   "cell_type": "code",
   "execution_count": null,
   "id": "467abbf5",
   "metadata": {},
   "outputs": [],
   "source": [
    "sll3.count"
   ]
  }
 ],
 "metadata": {
  "kernelspec": {
   "display_name": "Python 3 (ipykernel)",
   "language": "python",
   "name": "python3"
  },
  "language_info": {
   "codemirror_mode": {
    "name": "ipython",
    "version": 3
   },
   "file_extension": ".py",
   "mimetype": "text/x-python",
   "name": "python",
   "nbconvert_exporter": "python",
   "pygments_lexer": "ipython3",
   "version": "3.8.10"
  }
 },
 "nbformat": 4,
 "nbformat_minor": 5
}
