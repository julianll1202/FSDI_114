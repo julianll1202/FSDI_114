{
 "cells": [
  {
   "cell_type": "code",
   "execution_count": 1,
   "id": "e6ba856c",
   "metadata": {},
   "outputs": [],
   "source": [
    "class Stack:\n",
    "    def __init__(self):\n",
    "        self.items = []\n",
    "    \n",
    "    def push(self, element):\n",
    "        self.items.append(element)\n",
    "        \n",
    "    def pop(self):\n",
    "        return self.items.pop()\n",
    "    \n",
    "    def __len__(self):\n",
    "        return len(self.items)\n",
    "    \n",
    "    def peek(self):\n",
    "        return self.items[len(self.items)-1]\n",
    "    \n",
    "    def is_empty(self):\n",
    "        return self.items == []"
   ]
  },
  {
   "cell_type": "code",
   "execution_count": 3,
   "id": "60c06427",
   "metadata": {},
   "outputs": [
    {
     "name": "stdout",
     "output_type": "stream",
     "text": [
      "[6, 5, 4, 3, 2, 1]\n"
     ]
    }
   ],
   "source": [
    "numbers = [1,2,3,4,5,6]\n",
    "stack = Stack()\n",
    "\n",
    "for number in numbers:\n",
    "    stack.push(number)\n",
    "\n",
    "out = []\n",
    "\n",
    "while not stack.is_empty():\n",
    "    element = stack.pop()\n",
    "    out.append(element)\n",
    "\n",
    "print(out)"
   ]
  },
  {
   "cell_type": "code",
   "execution_count": 45,
   "id": "2d790b3b",
   "metadata": {},
   "outputs": [],
   "source": [
    "class Node():\n",
    "    def __init__(self, data):\n",
    "        self.data = data\n",
    "        self.above = None\n",
    "\n",
    "class Stack:\n",
    "    def __init__(self):\n",
    "        self.base = None\n",
    "        \n",
    "    def push(self, element):\n",
    "        node = Node(element)\n",
    "        if self.base == None:\n",
    "            self.base = node\n",
    "        else:\n",
    "            current = self.base\n",
    "            while current.above is not None:\n",
    "                current = current.above\n",
    "            current.above = node\n",
    "    def pop(self):\n",
    "        if self.base != None:               # when the stack isn't empty\n",
    "            if self.base.above != None:     # when it contains more than one element\n",
    "                current = self.base\n",
    "                previous = None\n",
    "                while current.above:\n",
    "                    previous = current\n",
    "                    current = current.above\n",
    "                previous.above = None       # eliminates the top node\n",
    "                return current.data         # return the value of the deleted node\n",
    "            else:                           # when it contains only one element\n",
    "                data = self.base.data\n",
    "                self.base = None\n",
    "                return data\n",
    "        raise IndexError(\"Empty stack\")\n",
    "                \n",
    "    def view(self):\n",
    "        current = self.base\n",
    "        while current.above is not None:\n",
    "            print(current.data)\n",
    "            current = current.above\n",
    "    \n",
    "    def is_empty(self):\n",
    "        return self.base == None\n",
    "    \n",
    "    def __len__(self):\n",
    "        counter = 0\n",
    "        if self.base:\n",
    "            counter = 1\n",
    "            current = self.base\n",
    "            while current.above:\n",
    "                counter = counter+1\n",
    "                current = current.above\n",
    "            counter = counter-1\n",
    "        return counter\n",
    "        \n",
    "        \n",
    "#     def peek(self):\n",
    "        # extra credit"
   ]
  },
  {
   "cell_type": "code",
   "execution_count": 46,
   "id": "83a1dd72",
   "metadata": {},
   "outputs": [],
   "source": [
    "stack = Stack()\n",
    "stack.push(4)"
   ]
  },
  {
   "cell_type": "code",
   "execution_count": 55,
   "id": "f147eaa6",
   "metadata": {},
   "outputs": [],
   "source": [
    "stack.push(5)"
   ]
  },
  {
   "cell_type": "code",
   "execution_count": 51,
   "id": "7259f50c",
   "metadata": {},
   "outputs": [
    {
     "name": "stdout",
     "output_type": "stream",
     "text": [
      "4\n"
     ]
    }
   ],
   "source": [
    "stack.view()"
   ]
  },
  {
   "cell_type": "code",
   "execution_count": 57,
   "id": "c7dceafd",
   "metadata": {},
   "outputs": [
    {
     "data": {
      "text/plain": [
       "5"
      ]
     },
     "execution_count": 57,
     "metadata": {},
     "output_type": "execute_result"
    }
   ],
   "source": [
    "stack.pop()"
   ]
  },
  {
   "cell_type": "code",
   "execution_count": 53,
   "id": "df9c599a",
   "metadata": {},
   "outputs": [],
   "source": [
    "stack.push(8)"
   ]
  },
  {
   "cell_type": "code",
   "execution_count": 58,
   "id": "feda4db9",
   "metadata": {},
   "outputs": [
    {
     "data": {
      "text/plain": [
       "2"
      ]
     },
     "execution_count": 58,
     "metadata": {},
     "output_type": "execute_result"
    }
   ],
   "source": [
    "len(stack)"
   ]
  },
  {
   "cell_type": "code",
   "execution_count": null,
   "id": "66c808c9",
   "metadata": {},
   "outputs": [],
   "source": []
  }
 ],
 "metadata": {
  "kernelspec": {
   "display_name": "Python 3 (ipykernel)",
   "language": "python",
   "name": "python3"
  },
  "language_info": {
   "codemirror_mode": {
    "name": "ipython",
    "version": 3
   },
   "file_extension": ".py",
   "mimetype": "text/x-python",
   "name": "python",
   "nbconvert_exporter": "python",
   "pygments_lexer": "ipython3",
   "version": "3.8.10"
  }
 },
 "nbformat": 4,
 "nbformat_minor": 5
}
