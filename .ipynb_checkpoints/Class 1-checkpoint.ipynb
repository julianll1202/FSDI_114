{
 "cells": [
  {
   "cell_type": "code",
   "execution_count": 3,
   "id": "fd534359",
   "metadata": {},
   "outputs": [
    {
     "name": "stdout",
     "output_type": "stream",
     "text": [
      "h\n",
      "e\n",
      "l\n",
      "l\n",
      "o\n",
      ",\n",
      " \n",
      "w\n",
      "o\n",
      "r\n",
      "l\n",
      "d\n"
     ]
    }
   ],
   "source": [
    "for letter in \"hello, world\":\n",
    "    print(letter)"
   ]
  },
  {
   "cell_type": "markdown",
   "id": "5e4b3bc7",
   "metadata": {},
   "source": [
    "# Problem 1\n",
    "### Given two strings (string_a and string_b) create a function that checks whether or not ther are anagrams of each other, considering the following criteria:\n",
    "Two strings are only anagramas of each other if:\n",
    "1. They are exactly the same length\n",
    "2. They use exactly the same characters (no more, no less)\n",
    "\n",
    "```\n",
    "Examples:\n",
    "cars and scar\n",
    "heart and earth\n",
    "```"
   ]
  },
  {
   "cell_type": "code",
   "execution_count": null,
   "id": "866788a3",
   "metadata": {},
   "outputs": [],
   "source": [
    "# Get 2 strings\n",
    "# Compare the length of both strings\n",
    "# If they are different, finish and say they are not anagrams\n",
    "# If they are the same length:\n",
    "# - Compare each letter of the first string to each letter of the \n",
    "#   second string until they coincide, then check that letter so \n",
    "#   you dont repeat it\n",
    "# - If after you finish checking all the letters of the first string"
   ]
  },
  {
   "cell_type": "code",
   "execution_count": null,
   "id": "a46d8210",
   "metadata": {},
   "outputs": [],
   "source": [
    "# Bad solution\n",
    "# def are_anagrams(string_a, string_b):\n",
    "#     return sorted(string_a) == sorted(string_b)"
   ]
  },
  {
   "cell_type": "code",
   "execution_count": 19,
   "id": "dda4613e",
   "metadata": {},
   "outputs": [],
   "source": [
    "# Initial solution\n",
    "def are_anagrams(string_a, string_b):\n",
    "    string_a = string_a.replace(' ','')           # Eliminate whitespaces on string_a\n",
    "    string_b = string_b.replace(' ','')           # Eliminate whitespaces on string_b\n",
    "    string_a = string_a.lower()                   # Change string_a to lowercases\n",
    "    string_b = string_b.lower()                   # Change string_b to lowercases\n",
    "    \n",
    "    \n",
    "    if len(string_a) != len(string_b):\n",
    "        return False\n",
    "    char_times_a = dict()\n",
    "    char_times_b = dict()                          # each key is every character, and the values are the times seen\n",
    "    for i in range(len(string_a)):\n",
    "        if string_a[i] not in char_times_a.keys():\n",
    "            char_times_a[string_a[i]] = 1\n",
    "        else:\n",
    "            char_times_a[string_a[i]] += 1\n",
    "        if string_b[i] not in char_times_b.keys():\n",
    "            char_times_b[string_b[i]] = 1\n",
    "        else:\n",
    "            char_times_b[string_b[i]] += 1\n",
    "    return char_times_a == char_times_b\n",
    "        "
   ]
  },
  {
   "cell_type": "code",
   "execution_count": 15,
   "id": "686eae5f",
   "metadata": {},
   "outputs": [
    {
     "data": {
      "text/plain": [
       "True"
      ]
     },
     "execution_count": 15,
     "metadata": {},
     "output_type": "execute_result"
    }
   ],
   "source": [
    "are_anagrams(\"cars\", \"scar\")"
   ]
  },
  {
   "cell_type": "code",
   "execution_count": 16,
   "id": "3afa4072",
   "metadata": {},
   "outputs": [
    {
     "data": {
      "text/plain": [
       "False"
      ]
     },
     "execution_count": 16,
     "metadata": {},
     "output_type": "execute_result"
    }
   ],
   "source": [
    "are_anagrams(\"caes\", \"scar\")"
   ]
  },
  {
   "cell_type": "markdown",
   "id": "ed3527a9",
   "metadata": {},
   "source": [
    "# Homework\n",
    "### The function above (are_anagrams) must be edited such that:\n",
    "> are_anagrams(\"I am Lord Voldemort\", \"Tom Marvolo Riddle\") returns True"
   ]
  },
  {
   "cell_type": "code",
   "execution_count": null,
   "id": "9c9542e4",
   "metadata": {},
   "outputs": [],
   "source": [
    "# Before the string length comparison:\n",
    "#  - We should eliminate all whitespaces\n",
    "#  - Change all letters to either lowercase or uppercase\n",
    "\n",
    "# Eliminating whitespaces\n",
    "# Look through each character until we find a whitespace and eliminate it."
   ]
  },
  {
   "cell_type": "code",
   "execution_count": 20,
   "id": "fa553509",
   "metadata": {},
   "outputs": [
    {
     "data": {
      "text/plain": [
       "True"
      ]
     },
     "execution_count": 20,
     "metadata": {},
     "output_type": "execute_result"
    }
   ],
   "source": [
    "are_anagrams(\"I am Lord Voldemort\", \"Tom Marvolo Riddle\")"
   ]
  },
  {
   "cell_type": "code",
   "execution_count": 21,
   "id": "6de5dbe1",
   "metadata": {},
   "outputs": [
    {
     "data": {
      "text/plain": [
       "True"
      ]
     },
     "execution_count": 21,
     "metadata": {},
     "output_type": "execute_result"
    }
   ],
   "source": [
    "are_anagrams(\"Adam hooPer\", \"aDAM oR HoPE\")"
   ]
  },
  {
   "cell_type": "code",
   "execution_count": null,
   "id": "79c078ef",
   "metadata": {},
   "outputs": [],
   "source": []
  }
 ],
 "metadata": {
  "kernelspec": {
   "display_name": "Python 3 (ipykernel)",
   "language": "python",
   "name": "python3"
  },
  "language_info": {
   "codemirror_mode": {
    "name": "ipython",
    "version": 3
   },
   "file_extension": ".py",
   "mimetype": "text/x-python",
   "name": "python",
   "nbconvert_exporter": "python",
   "pygments_lexer": "ipython3",
   "version": "3.8.10"
  }
 },
 "nbformat": 4,
 "nbformat_minor": 5
}
